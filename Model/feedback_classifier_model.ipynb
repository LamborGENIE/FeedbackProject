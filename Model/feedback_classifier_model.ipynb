{
 "cells": [
  {
   "cell_type": "code",
   "execution_count": 3,
   "id": "9ed6d085",
   "metadata": {},
   "outputs": [
    {
     "name": "stdout",
     "output_type": "stream",
     "text": [
      "                                text      label\n",
      "0          I appreciate this product   positive\n",
      "1         This is an excellent movie   positive\n",
      "2    The weather is delightful today   positive\n",
      "3                        I'm content   positive\n",
      "4      This book is a disappointment   negative\n",
      "..                               ...        ...\n",
      "440      I can't bear this situation   negative\n",
      "441     This is a wonderful surprise   positive\n",
      "442        The movie was captivating   positive\n",
      "443          I'm absolutely ecstatic   positive\n",
      "444   This is a complete catastrophe   negative\n",
      "\n",
      "[445 rows x 2 columns]\n",
      "0.9438202247191011\n"
     ]
    }
   ],
   "source": [
    "import pandas as pd\n",
    "from sklearn.naive_bayes import MultinomialNB\n",
    "from sklearn.model_selection import train_test_split\n",
    "from sklearn.metrics import accuracy_score\n",
    "import seaborn as sns\n",
    "import matplotlib.pyplot as plt\n",
    "import matplotlib.ticker as ticker\n",
    "import pickle\n",
    "\n",
    "url = \"C:/Workspace/FeedbackProject/Model/sentiment_dataset.csv\"\n",
    "data = pd.read_csv(url)\n",
    "\n",
    "df = pd.DataFrame(data)\n",
    "print(df)\n",
    "\n",
    "X = df['text']\n",
    "y = df['label']\n",
    "\n",
    "X_encoded = pd.get_dummies(X)\n",
    "X_train, X_test, y_train, y_test = train_test_split(X_encoded, y, test_size=0.2, random_state=42)\n",
    "\n",
    "model = MultinomialNB()\n",
    "model.fit(X_train, y_train)\n",
    "pred = model.predict(X_test)\n",
    "# print(pred)\n",
    "accuracy = accuracy_score(y_test, pred)\n",
    "print(accuracy)\n",
    "\n",
    "filename = 'feedback_model.pkl'\n",
    "with open(filename, 'wb') as file:\n",
    "    pickle.dump(model, file)"
   ]
  },
  {
   "cell_type": "code",
   "execution_count": null,
   "id": "d4f6fb63",
   "metadata": {},
   "outputs": [],
   "source": []
  },
  {
   "cell_type": "code",
   "execution_count": null,
   "id": "57c2af67",
   "metadata": {},
   "outputs": [],
   "source": []
  }
 ],
 "metadata": {
  "kernelspec": {
   "display_name": "Python 3 (ipykernel)",
   "language": "python",
   "name": "python3"
  },
  "language_info": {
   "codemirror_mode": {
    "name": "ipython",
    "version": 3
   },
   "file_extension": ".py",
   "mimetype": "text/x-python",
   "name": "python",
   "nbconvert_exporter": "python",
   "pygments_lexer": "ipython3",
   "version": "3.10.9"
  }
 },
 "nbformat": 4,
 "nbformat_minor": 5
}

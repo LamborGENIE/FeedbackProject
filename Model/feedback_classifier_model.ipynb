{
 "cells": [
  {
   "cell_type": "code",
   "execution_count": 9,
   "id": "9ed6d085",
   "metadata": {},
   "outputs": [],
   "source": [
    "import pandas as pd\n",
    "from sklearn.naive_bayes import MultinomialNB\n",
    "from sklearn.model_selection import train_test_split\n",
    "from sklearn.metrics import accuracy_score\n",
    "from sklearn.feature_extraction.text import CountVectorizer\n",
    "import seaborn as sns\n",
    "import matplotlib.pyplot as plt\n",
    "import matplotlib.ticker as ticker\n",
    "import pickle\n",
    "\n",
    "\n",
    "url = \"C:/Workspace/FeedbackProject/Model/sentiment_dataset.csv\"\n",
    "data = pd.read_csv(url)\n",
    "\n",
    "df = pd.DataFrame(data)\n",
    "#print(df)\n",
    "\n",
    "X = df['text']\n",
    "y = df['Sentiment']\n",
    "\n",
    "#X_encoded = pd.get_dummies(X)\n",
    "X_train, X_test, y_train, y_test = train_test_split(X, y, test_size=0.2, random_state=42)\n",
    "\n",
    "# Vectorize the text data\n",
    "vectorizer = CountVectorizer()\n",
    "X_train_vec = vectorizer.fit_transform(X_train)\n",
    "X_test_vec = vectorizer.transform(X_test)\n",
    "\n",
    "\n",
    "model = MultinomialNB()\n",
    "model.fit(X_train_vec, y_train)\n",
    "pred = model.predict(X_test_vec)\n",
    "#print(X_test_vec)\n",
    "#accuracy = accuracy_score(y_test, pred)\n",
    "#print(accuracy)\n",
    "\n",
    "filename = 'feedback_model.pkl'\n",
    "with open(filename, 'wb') as file:\n",
    "    pickle.dump((model, vectorizer), file)"
   ]
  },
  {
   "cell_type": "code",
   "execution_count": 10,
   "id": "d4f6fb63",
   "metadata": {},
   "outputs": [
    {
     "name": "stdout",
     "output_type": "stream",
     "text": [
      "<class 'pandas.core.series.Series'>\n",
      "<class 'scipy.sparse._csr.csr_matrix'>\n",
      "['positive' 'positive' 'negative']\n"
     ]
    }
   ],
   "source": [
    "#testing of model\n",
    "\n",
    "test_data = [\"I appreciate this team\", \"No you're doing poorly\", \"I am changing my job\"]\n",
    "\n",
    "print(type(X_test))\n",
    "\n",
    "test_data_vec = vectorizer.transform(test_data)\n",
    "print(type(test_data_vec))\n",
    "predictions = model.predict(test_data_vec)\n",
    "print(predictions)"
   ]
  },
  {
   "cell_type": "code",
   "execution_count": null,
   "id": "57c2af67",
   "metadata": {
    "scrolled": true
   },
   "outputs": [],
   "source": []
  },
  {
   "cell_type": "code",
   "execution_count": null,
   "id": "57a8898a",
   "metadata": {},
   "outputs": [],
   "source": []
  }
 ],
 "metadata": {
  "kernelspec": {
   "display_name": "Python 3 (ipykernel)",
   "language": "python",
   "name": "python3"
  },
  "language_info": {
   "codemirror_mode": {
    "name": "ipython",
    "version": 3
   },
   "file_extension": ".py",
   "mimetype": "text/x-python",
   "name": "python",
   "nbconvert_exporter": "python",
   "pygments_lexer": "ipython3",
   "version": "3.10.9"
  }
 },
 "nbformat": 4,
 "nbformat_minor": 5
}
